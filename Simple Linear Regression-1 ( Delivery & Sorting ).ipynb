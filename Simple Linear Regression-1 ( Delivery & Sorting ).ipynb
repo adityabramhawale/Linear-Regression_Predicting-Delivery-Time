#!/usr/bin/env python
# coding: utf-8

# In[43]:


import pandas as pd
import numpy as np
import seaborn as sns
import statsmodels.formula.api as smf


# In[44]:


x=pd.read_csv("C:\\Users\\bramhad\\OneDrive - Konecranes Plc\\Desktop\\Data Science\\ExcelR\\Assignments\\Simple Linear Regression\\delivery_time.csv")
x.tail()


# In[45]:


x.info()


# As there are no null values we are not replacing any of the row with mean value of the data

# In[46]:


x[x.duplicated()].shape


# As there are no rows are duplicated we can directly go for correlation check between predictor and response variable

# In[47]:


sns.distplot(x["Delivery Time"])


# In[48]:


sns.distplot(x["Sorting Time"])


# In[49]:


x.corr()


# In[50]:


x=x.rename({'Delivery Time':'a','Sorting Time':'b'},axis=1)
x


# In[51]:


sns.regplot(x=x['a'],y=x['b'])


# In[52]:


m=smf.ols("a~b",data=x).fit()


# In[53]:


m.params


# In[54]:


m.tvalues,m.pvalues


# As P value is much lesser than alpha (0.05) we can say there is good co-realtion between variables

# In[55]:


m.rsquared,m.rsquared_adj


# Manual calculation as per intercept and B value , let us assume sorting time is 7 then as per calculation 

# In[56]:


a = (6.582734) + (1.649020)*(7)
a


# Passing new values of dataframe to predict values from model

# In[60]:


newx=pd.Series([4,8])
newx


# In[63]:


predx=pd.DataFrame(newx,columns=['b'])
predx


# In[64]:


m.predict(predx)

